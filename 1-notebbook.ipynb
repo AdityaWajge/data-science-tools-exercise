{
 "cells": [
  {
   "cell_type": "markdown",
   "id": "00ca262a-2cbe-4487-905b-a96b3fa294ad",
   "metadata": {},
   "source": [
    "In this notebook, we summarize some of the essential tools and techniques used in Data Science.\n"
   ]
  },
  {
   "cell_type": "code",
   "execution_count": null,
   "id": "9a221331-7c01-48d8-acd8-fb3a41a14165",
   "metadata": {},
   "outputs": [],
   "source": [
    "Data Science languages include:  \n",
    "1. Python  \n",
    "2. R  \n",
    "3. SQL  \n"
   ]
  },
  {
   "cell_type": "code",
   "execution_count": null,
   "id": "9b3873e5-2033-43cb-850c-e90bd6b1c23d",
   "metadata": {},
   "outputs": [],
   "source": [
    "Popular Data Science libraries:  \n",
    "1. Pandas  \n",
    "2. NumPy  \n",
    "3. Matplotlib  \n"
   ]
  },
  {
   "cell_type": "code",
   "execution_count": null,
   "id": "19a6550e-ab9e-4ca8-9b29-7e53263fef2f",
   "metadata": {},
   "outputs": [],
   "source": [
    "| Tool          | Description                      |  \n",
    "|---------------|----------------------------------|  \n",
    "| Jupyter       | Interactive computing environment|  \n",
    "| RStudio       | IDE for R                        |  \n",
    "| Apache Spark  | Big data analytics engine        |\n"
   ]
  },
  {
   "cell_type": "code",
   "execution_count": 2,
   "id": "ae2147a5-b70d-4e3b-8129-c8da6fd25232",
   "metadata": {},
   "outputs": [
    {
     "ename": "SyntaxError",
     "evalue": "unterminated string literal (detected at line 1) (3814135444.py, line 1)",
     "output_type": "error",
     "traceback": [
      "\u001b[0;36m  Cell \u001b[0;32mIn[2], line 1\u001b[0;36m\u001b[0m\n\u001b[0;31m    Let's explore some examples of arithmetic expressions in Python.\u001b[0m\n\u001b[0m       ^\u001b[0m\n\u001b[0;31mSyntaxError\u001b[0m\u001b[0;31m:\u001b[0m unterminated string literal (detected at line 1)\n"
     ]
    }
   ],
   "source": [
    "Let's explore some examples of arithmetic expressions in Python.\n",
    "# Multiply and add numbers\n",
    "(3 * 4) + 5\n"
   ]
  },
  {
   "cell_type": "code",
   "execution_count": 3,
   "id": "d47814cf-eaab-41e2-bebc-27ece02795ea",
   "metadata": {},
   "outputs": [
    {
     "data": {
      "text/plain": [
       "17"
      ]
     },
     "execution_count": 3,
     "metadata": {},
     "output_type": "execute_result"
    }
   ],
   "source": [
    "# Multiply and add numbers\n",
    "(3 * 4) + 5\n"
   ]
  },
  {
   "cell_type": "code",
   "execution_count": 4,
   "id": "b25714bd-757b-426c-add1-dd20e9930b97",
   "metadata": {},
   "outputs": [
    {
     "data": {
      "text/plain": [
       "3.3333333333333335"
      ]
     },
     "execution_count": 4,
     "metadata": {},
     "output_type": "execute_result"
    }
   ],
   "source": [
    "# Convert 200 minutes to hours\n",
    "200 / 60\n"
   ]
  },
  {
   "cell_type": "markdown",
   "id": "850c12cf-ca0f-42e9-aac8-4e9b0ac6f7c6",
   "metadata": {},
   "source": [
    "Objectives of this notebook:\n",
    "- Introduce data science tools\n",
    "- Practice markdown syntax\n",
    "- Execute Python code\n"
   ]
  },
  {
   "cell_type": "code",
   "execution_count": null,
   "id": "7298f972-9e8d-4338-bf05-8bc178d20288",
   "metadata": {},
   "outputs": [],
   "source": [
    "**Author:** Aditya\n"
   ]
  }
 ],
 "metadata": {
  "kernelspec": {
   "display_name": "Python 3 (ipykernel)",
   "language": "python",
   "name": "python3"
  },
  "language_info": {
   "codemirror_mode": {
    "name": "ipython",
    "version": 3
   },
   "file_extension": ".py",
   "mimetype": "text/x-python",
   "name": "python",
   "nbconvert_exporter": "python",
   "pygments_lexer": "ipython3",
   "version": "3.12.8"
  }
 },
 "nbformat": 4,
 "nbformat_minor": 5
}
